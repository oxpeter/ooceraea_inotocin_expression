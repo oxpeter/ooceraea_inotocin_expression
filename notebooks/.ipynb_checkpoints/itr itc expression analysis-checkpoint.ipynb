{
 "cells": [
  {
   "cell_type": "markdown",
   "metadata": {},
   "source": [
    "# Summary of methods\n",
    "Gene expression data were analyzed from the control samples originally used in Libbrecht _et al._ (2016) Current Biology 26:3 391-395 and Libbrecht _et al._ (2018) BMC Biology 16:89. Control samples in each case consist of age-matched workers in the Reproductive phase in the presence of pupae, or age-matched workers in the Brood Care phase with larvae. "
   ]
  },
  {
   "cell_type": "markdown",
   "metadata": {},
   "source": [
    "# Control samples used in analysis\n",
    "The following table shows the NCBI SRA and BioSample IDs for the samples used for this analysis"
   ]
  },
  {
   "cell_type": "markdown",
   "metadata": {},
   "source": [
    "| SRS ID | BioSample ID | Sample ID | Treatment Group |\n",
    "|---|---|---|---|\n",
    "| SRS844747 | SAMN03332204 | C.biroi_brains_11 | FL12 |\n",
    "| SRS844745 | SAMN03332206 | C.biroi_brains_13 | FL12 |\n",
    "| SRS844781 | SAMN03332216 | C.biroi_brains_23 | FL12 |\n",
    "| SRS844749 | SAMN03332217 | C.biroi_brains_24 | FL12 |\n",
    "| SRS844765 | SAMN03332229 | C.biroi_brains_36 | FL12 |\n",
    "| SRS844752 | SAMN03332230 | C.biroi_brains_37 | FL12 |\n",
    "| SRS844767 | SAMN03332231 | C.biroi_brains_38 | FL12 |\n",
    "| SRS844736 | SAMN03332203 | C.biroi_brains_10 | SP12 |\n",
    "| SRS844746 | SAMN03332205 | C.biroi_brains_12 | SP12 |\n",
    "| SRS844750 | SAMN03332215 | C.biroi_brains_22 | SP12 |\n",
    "| SRS844748 | SAMN03332227 | C.biroi_brains_34 | SP12 |\n",
    "| SRS844766 | SAMN03332228 | C.biroi_brains_35 | SP12 |\n",
    "| SRS844784 | SAMN03332240 | C.biroi_brains_47 | SP12 |\n",
    "| SRS844751 | SAMN03332241 | C.biroi_brains_48 | SP12 |\n",
    "| SRS1186132 | SAMN04308694 | C.biroi_brains_107 | STC6 |\n",
    "| SRS1186135 | SAMN04308693 | C.biroi_brains_106 | STC6 |\n",
    "| SRS1186133 | SAMN04308692 | C.biroi_brains_105 | STC1 |\n",
    "| SRS1186134 | SAMN04308691 | C.biroi_brains_104 | STC1 |\n",
    "| SRS1186136 | SAMN04308690 | C.biroi_brains_103 | C1 |\n",
    "| SRS1186137 | SAMN04308689 | C.biroi_brains_102 | C1 |\n",
    "| SRS1186138 | SAMN04308688 | C.biroi_brains_101 | C16 |\n",
    "| SRS1186115 | SAMN04308687 | C.biroi_brains_100 | C16 |"
   ]
  },
  {
   "cell_type": "markdown",
   "metadata": {},
   "source": [
    "# RNASeq analysis using DESeq 2\n",
    "Gene expression values were determined using the method described in Chandra et al (2018) Science 361:6400, 398-402 [DOI: 10.1126/science.aar5723](https://doi.org/10.1126/science.aar5723). The following script was used to analyse the gene expression of the above samples."
   ]
  },
  {
   "cell_type": "markdown",
   "metadata": {},
   "source": [
    "```\n",
    "# set location of HTSeq count files:\n",
    "directory <- \"/XXXX/experiments/analyses/PRO20150424_star_all_cerapachys/htseq\"\n",
    "\n",
    "# extract sample files:\n",
    "sampleFiles <- grep(\".*(_SP|_FL).*htseq.gene.out\", list.files(directory), value=TRUE)\n",
    "\n",
    "# assign phase and batch to each sample, based on filename:\n",
    "sampleCondition <- sub(\".*(_SP|_FL).*\", \"\\\\1\", sampleFiles)\n",
    "\n",
    "sampleBatch <- sub(\"[PM]_(B[0-9]).*\", \"\\\\1\", sampleFiles)\n",
    "\n",
    "# construct table, including design (incorporates batch effect in model)\n",
    "sampleTable <- data.frame(sampleName = sampleFiles,\n",
    "                           fileName = sampleFiles,\n",
    "                           condition = sampleCondition,\n",
    "\t\t\t   batch = sampleBatch)\n",
    "\n",
    "### PERFORM TESTS ###                          \n",
    "# standard\n",
    "dds <- DESeqDataSetFromHTSeqCount(sampleTable = sampleTable,\n",
    "                                        directory = directory,\n",
    "                                        design= ~ batch + condition)\n",
    "\n",
    "dds_std <- DESeq(dds, minReplicatesForReplace=5)\n",
    "\n",
    "# look at results of tests:\n",
    "resQF <- results(dds_std, alpha=0.05, contrast=c(\"condition\", \"_SP\", \"_FL\"))\n",
    "\n",
    "# produce and save the variance adjusted count values for each gene and save to file:\n",
    "vsd <- varianceStabilizingTransformation(dds_std)\n",
    "vstMat <- assay(vsd)\n",
    "write.table(as.data.frame(vstMat), file=\"Cerapachys.genes.all_samples.vst.tbl\")\n",
    "\n",
    "# order results on adjusted pvalue:\n",
    "resQFOrdered <- resQF[order(resQF$padj),]\n",
    "head(resQFOrdered)\n",
    "summary(resQF)\n",
    "\n",
    "# count number of genes with adjusted pvalue less than 0.05\n",
    "SigQF <- subset(resQFOrdered, padj < 0.05)\n",
    "length(SigQF$padj)\n",
    "\n",
    "# graph all variance adjusted genes:\n",
    "plotMA(resQF, main=\"statary and foraging Cerapachys Samples (Genes)\", ylim=c(-2,2))\n",
    "\n",
    "# save pvalue and log fold change results for all genes to file:\n",
    "write.table(as.data.frame(resQFOrdered), file=\"Cerapachys.genes.all_samples.pvalues.out\")\n",
    "\n",
    "```"
   ]
  },
  {
   "cell_type": "markdown",
   "metadata": {},
   "source": [
    "# Visualization of gene expression"
   ]
  },
  {
   "cell_type": "markdown",
   "metadata": {},
   "source": [
    "## Import required Python libraries"
   ]
  },
  {
   "cell_type": "code",
   "execution_count": 1,
   "metadata": {},
   "outputs": [],
   "source": [
    "import pandas as pd\n",
    "%matplotlib inline\n",
    "import matplotlib.pyplot as plt"
   ]
  },
  {
   "cell_type": "code",
   "execution_count": 2,
   "metadata": {},
   "outputs": [],
   "source": [
    "import seaborn as sns"
   ]
  },
  {
   "cell_type": "code",
   "execution_count": 3,
   "metadata": {},
   "outputs": [],
   "source": [
    "import re"
   ]
  },
  {
   "cell_type": "markdown",
   "metadata": {},
   "source": [
    "## Define function to extract treatment type"
   ]
  },
  {
   "cell_type": "code",
   "execution_count": 4,
   "metadata": {},
   "outputs": [],
   "source": [
    "def parse_treatment(name):\n",
    "    srch = re.search(\"_([FS][LP]\\d+)\", name)\n",
    "    if srch:\n",
    "        return srch.group(1)\n",
    "    else:\n",
    "        return None"
   ]
  },
  {
   "cell_type": "markdown",
   "metadata": {},
   "source": [
    "## Define key variables"
   ]
  },
  {
   "cell_type": "code",
   "execution_count": 5,
   "metadata": {},
   "outputs": [],
   "source": [
    "itc = 'LOC105274751'\n",
    "itr = 'LOC105286925'"
   ]
  },
  {
   "cell_type": "code",
   "execution_count": 6,
   "metadata": {},
   "outputs": [],
   "source": [
    "GENE_EXPRESSION_TABLE = \"Cerapachys.genes.all_samples.vst.tbl\""
   ]
  },
  {
   "cell_type": "markdown",
   "metadata": {},
   "source": [
    "## Extract relevant expression data from table"
   ]
  },
  {
   "cell_type": "code",
   "execution_count": 7,
   "metadata": {},
   "outputs": [],
   "source": [
    "df_controls  = pd.read_csv(GENE_EXPRESSION_TABLE, delim_whitespace=True)"
   ]
  },
  {
   "cell_type": "code",
   "execution_count": 8,
   "metadata": {},
   "outputs": [],
   "source": [
    "df_controls = df_controls[df_controls.index.isin([itc, itr])].T.reset_index().rename(columns={itr:\"ITR\", itc:\"ITC\"})"
   ]
  },
  {
   "cell_type": "code",
   "execution_count": 9,
   "metadata": {},
   "outputs": [],
   "source": [
    "df_controls['treatment'] = df_controls['index'].apply(parse_treatment)"
   ]
  },
  {
   "cell_type": "code",
   "execution_count": 10,
   "metadata": {},
   "outputs": [],
   "source": [
    "df_controls['phase'] = df_controls.treatment.apply(lambda x: x[0])"
   ]
  },
  {
   "cell_type": "markdown",
   "metadata": {},
   "source": [
    "Save ITR and ITC data to file"
   ]
  },
  {
   "cell_type": "code",
   "execution_count": 11,
   "metadata": {},
   "outputs": [],
   "source": [
    "df_controls.to_csv(\"ITC and ITR expression values.csv\", index=False)"
   ]
  },
  {
   "cell_type": "code",
   "execution_count": 12,
   "metadata": {},
   "outputs": [],
   "source": [
    "df_ctrl_stacked = df_controls.set_index(\"index\")[[\"ITC\",\"ITR\"]].stack().reset_index().set_index(\"index\").rename(columns={\"level_1\":\"gene\",0:\"expression\"})"
   ]
  },
  {
   "cell_type": "code",
   "execution_count": 13,
   "metadata": {},
   "outputs": [],
   "source": [
    "df_ctrl_stacked = pd.merge(left=df_ctrl_stacked, right=df_controls.set_index('index')['treatment'],\n",
    "             left_index=True, right_index=True,\n",
    "            )"
   ]
  },
  {
   "cell_type": "code",
   "execution_count": 14,
   "metadata": {},
   "outputs": [],
   "source": [
    "df_ctrl_stacked['phase'] = df_ctrl_stacked['treatment'].apply(lambda x: x[0])"
   ]
  },
  {
   "cell_type": "code",
   "execution_count": 15,
   "metadata": {},
   "outputs": [
    {
     "data": {
      "image/png": "[encoded data removed]",
      "text/plain": [
       "<Figure size 432x288 with 1 Axes>"
      ]
     },
     "metadata": {
      "needs_background": "light"
     },
     "output_type": "display_data"
    }
   ],
   "source": [
    "sns.boxplot(data=df_ctrl_stacked, x='phase', y='expression', hue='gene', )\n",
    "plt.savefig(\"Inotocin receptor and peptide full controls box.svg\")"
   ]
  },
  {
   "cell_type": "code",
   "execution_count": 16,
   "metadata": {},
   "outputs": [
    {
     "data": {
      "image/png": "[encoded data removed]",
      "text/plain": [
       "<Figure size 432x288 with 1 Axes>"
      ]
     },
     "metadata": {
      "needs_background": "light"
     },
     "output_type": "display_data"
    }
   ],
   "source": [
    "sns.swarmplot(data=df_ctrl_stacked, x='phase', y='expression', hue='gene', )\n",
    "plt.savefig(\"Inotocin receptor and peptide full controls swarm.svg\")"
   ]
  }
 ],
 "metadata": {
  "kernelspec": {
   "display_name": "dataviz",
   "language": "python",
   "name": "dataviz"
  },
  "language_info": {
   "codemirror_mode": {
    "name": "ipython",
    "version": 3
   },
   "file_extension": ".py",
   "mimetype": "text/x-python",
   "name": "python",
   "nbconvert_exporter": "python",
   "pygments_lexer": "ipython3",
   "version": "3.8.2"
  }
 },
 "nbformat": 4,
 "nbformat_minor": 4
}
